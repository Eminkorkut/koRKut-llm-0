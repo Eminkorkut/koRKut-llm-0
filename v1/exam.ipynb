{
 "cells": [
  {
   "cell_type": "code",
   "execution_count": 1,
   "id": "7db0f8b1",
   "metadata": {},
   "outputs": [],
   "source": [
    "from koRKut_tokenizer import koRKutTokenizer\n",
    "\n",
    "korkut_tokenizer = koRKutTokenizer(vocab_file = \"tokenizer.json\", emptiness=61)"
   ]
  },
  {
   "cell_type": "code",
   "execution_count": 2,
   "id": "b6896043",
   "metadata": {},
   "outputs": [],
   "source": [
    "sentence = \"the capital of the united\""
   ]
  },
  {
   "cell_type": "code",
   "execution_count": 3,
   "id": "8c2f26f0",
   "metadata": {},
   "outputs": [
    {
     "data": {
      "text/plain": [
       "tensor([ 0, 61,  1, 61,  2, 61,  0, 61,  3])"
      ]
     },
     "execution_count": 3,
     "metadata": {},
     "output_type": "execute_result"
    }
   ],
   "source": [
    "out1 = korkut_tokenizer.encode(sentence)\n",
    "out1"
   ]
  },
  {
   "cell_type": "code",
   "execution_count": 4,
   "id": "cb481eba",
   "metadata": {},
   "outputs": [
    {
     "data": {
      "text/plain": [
       "['the', ' ', 'capital', ' ', 'of', ' ', 'the', ' ', 'united']"
      ]
     },
     "execution_count": 4,
     "metadata": {},
     "output_type": "execute_result"
    }
   ],
   "source": [
    "korkut_tokenizer.tokenize(sentence)"
   ]
  },
  {
   "cell_type": "code",
   "execution_count": 5,
   "id": "74b3abc5",
   "metadata": {},
   "outputs": [
    {
     "data": {
      "text/plain": [
       "'the capital of the united'"
      ]
     },
     "execution_count": 5,
     "metadata": {},
     "output_type": "execute_result"
    }
   ],
   "source": [
    "korkut_tokenizer.decode(([ 0, 61,  1, 61,  2, 61,  0, 61,  3]))"
   ]
  },
  {
   "cell_type": "code",
   "execution_count": 6,
   "id": "8513563e",
   "metadata": {},
   "outputs": [],
   "source": [
    "from koRKut_embedding import koRKutEmbedding\n",
    "\n",
    "korkut_embedding = koRKutEmbedding(vocab_size=len(korkut_tokenizer.vocab), embedding_dim=4, context_length=12)"
   ]
  },
  {
   "cell_type": "code",
   "execution_count": 7,
   "id": "0873fb7f",
   "metadata": {},
   "outputs": [
    {
     "data": {
      "text/plain": [
       "tensor([[[ 0.0285,  0.0900,  1.4076,  0.1380],\n",
       "         [-0.4825,  2.1911,  0.0491,  0.4959],\n",
       "         [-0.1496, -0.4199,  0.8769, -0.6559],\n",
       "         [ 0.1561,  2.0489, -0.4592,  0.9213],\n",
       "         [-0.6635,  0.0211,  0.1754, -1.0920],\n",
       "         [ 0.3526,  1.8250,  0.3331,  1.3100],\n",
       "         [ 0.4207, -0.0036,  1.3435,  0.1647],\n",
       "         [-0.4496,  1.5284,  0.1820,  1.6464],\n",
       "         [ 0.7509, -0.2153,  0.6908,  0.4892]]], grad_fn=<CopySlices>)"
      ]
     },
     "execution_count": 7,
     "metadata": {},
     "output_type": "execute_result"
    }
   ],
   "source": [
    "out2 = korkut_embedding(out1)\n",
    "out2"
   ]
  },
  {
   "cell_type": "code",
   "execution_count": 8,
   "id": "271f9272",
   "metadata": {},
   "outputs": [],
   "source": [
    "from koRKut_multi_head_attention import koRKutMultiHeadAttention\n",
    "\n",
    "korkut_multi_head_attention = koRKutMultiHeadAttention(embedding_dim=4, output_dim=4, context_length=12, num_heads=2)"
   ]
  },
  {
   "cell_type": "code",
   "execution_count": 9,
   "id": "7864cbef",
   "metadata": {},
   "outputs": [
    {
     "data": {
      "text/plain": [
       "tensor([[[ 0.5374, -0.2896,  0.0755,  0.4013],\n",
       "         [ 0.5960, -0.3443,  0.1177,  0.4163],\n",
       "         [ 0.4399, -0.1589, -0.0371,  0.3577],\n",
       "         [ 0.5951, -0.1945,  0.0238,  0.3687],\n",
       "         [ 0.4857, -0.0378, -0.1123,  0.3144],\n",
       "         [ 0.6201, -0.3145,  0.1132,  0.4099],\n",
       "         [ 0.4846, -0.2676,  0.0469,  0.3940],\n",
       "         [ 0.2393, -0.2128,  0.0387,  0.4167],\n",
       "         [ 0.3378, -0.3104,  0.0522,  0.4153]]], grad_fn=<ViewBackward0>)"
      ]
     },
     "execution_count": 9,
     "metadata": {},
     "output_type": "execute_result"
    }
   ],
   "source": [
    "out3 = korkut_multi_head_attention(out2)\n",
    "out3"
   ]
  },
  {
   "cell_type": "code",
   "execution_count": 10,
   "id": "17458678",
   "metadata": {},
   "outputs": [
    {
     "data": {
      "text/plain": [
       "tensor(0.9981, grad_fn=<SumBackward1>)"
      ]
     },
     "execution_count": 10,
     "metadata": {},
     "output_type": "execute_result"
    }
   ],
   "source": [
    "from torch.nn.functional import cosine_similarity\n",
    "\n",
    "v1 = out3[0,0]  # token 1\n",
    "v2 = out3[0,1]  # token 2\n",
    "\n",
    "cosine_similarity(v1, v2, dim=0)\n"
   ]
  },
  {
   "cell_type": "code",
   "execution_count": 11,
   "id": "07ae1736",
   "metadata": {},
   "outputs": [
    {
     "data": {
      "text/plain": [
       "tensor([[[ 1.1152, -1.4736, -0.3308,  0.6892],\n",
       "         [ 1.1227, -1.5194, -0.2212,  0.6179],\n",
       "         [ 1.1408, -1.2186, -0.7389,  0.8167],\n",
       "         [ 1.3025, -1.2892, -0.5728,  0.5594],\n",
       "         [ 1.3107, -0.8124, -1.1144,  0.6160],\n",
       "         [ 1.1766, -1.4866, -0.2677,  0.5777],\n",
       "         [ 1.0736, -1.4489, -0.3943,  0.7696],\n",
       "         [ 0.5071, -1.4221, -0.3491,  1.2641],\n",
       "         [ 0.7517, -1.5243, -0.2511,  1.0237]]], grad_fn=<MulBackward0>)"
      ]
     },
     "execution_count": 11,
     "metadata": {},
     "output_type": "execute_result"
    }
   ],
   "source": [
    "from koRKut_layer_norm import koRKutLayerNorm\n",
    "\n",
    "korkut_layer_norm = koRKutLayerNorm(embedding_dim=4)\n",
    "\n",
    "out4 = korkut_layer_norm(out3)\n",
    "out4"
   ]
  },
  {
   "cell_type": "code",
   "execution_count": 12,
   "id": "39fb476d",
   "metadata": {},
   "outputs": [
    {
     "data": {
      "text/plain": [
       "tensor([[[ 0.2511, -0.1641, -0.4415,  0.6382],\n",
       "         [ 0.2539, -0.1628, -0.4480,  0.6400],\n",
       "         [ 0.2492, -0.1766, -0.4118,  0.6328],\n",
       "         [ 0.2389, -0.1636, -0.4262,  0.6328],\n",
       "         [ 0.2830, -0.2229, -0.3568,  0.6317],\n",
       "         [ 0.2489, -0.1602, -0.4469,  0.6386],\n",
       "         [ 0.2526, -0.1670, -0.4372,  0.6378],\n",
       "         [ 0.3025, -0.1940, -0.4458,  0.6511],\n",
       "         [ 0.2837, -0.1835, -0.4431,  0.6462]]], grad_fn=<ViewBackward0>)"
      ]
     },
     "execution_count": 12,
     "metadata": {},
     "output_type": "execute_result"
    }
   ],
   "source": [
    "from koRKut_multi_layer_perceptron import koRKutMultiLayerPerceptron\n",
    "\n",
    "korkut_multi_layer_perceptron = koRKutMultiLayerPerceptron(embedding_dim=4, hidden_dim=2)\n",
    "\n",
    "out5 = korkut_multi_layer_perceptron(out4)\n",
    "out5"
   ]
  },
  {
   "cell_type": "code",
   "execution_count": 15,
   "id": "95798787",
   "metadata": {},
   "outputs": [
    {
     "data": {
      "text/plain": [
       "tensor([[[-2.6538, -0.1789,  1.2974,  1.5353],\n",
       "         [-1.6608,  0.1866, -0.2448,  1.7190],\n",
       "         [-2.5279, -0.1254,  1.6113,  1.0421],\n",
       "         [-1.7582,  0.3227,  0.0817,  1.3538],\n",
       "         [-1.9011, -0.0102,  1.0659,  0.8454],\n",
       "         [-1.7711,  0.1525, -0.4099,  2.0284],\n",
       "         [-2.5621, -1.1675,  1.2379,  2.4917],\n",
       "         [-2.0898,  0.0537, -0.3368,  2.3729],\n",
       "         [-2.6118, -1.2180,  1.7710,  2.0588]]], grad_fn=<AddBackward0>)"
      ]
     },
     "execution_count": 15,
     "metadata": {},
     "output_type": "execute_result"
    }
   ],
   "source": [
    "from koRKut_decoder_block import koRKutDecoderBlock\n",
    "\n",
    "korkut_decoder_block = koRKutDecoderBlock(embedding_dim=4, num_heads=2, context_length=12)\n",
    "\n",
    "out6 = korkut_decoder_block(out2)\n",
    "out6"
   ]
  },
  {
   "cell_type": "code",
   "execution_count": 16,
   "id": "5ed5c9f5",
   "metadata": {},
   "outputs": [],
   "source": [
    "from koRKut_model import koRKutModel\n",
    "\n",
    "korkut_model = koRKutModel(vocab_size=len(korkut_tokenizer.vocab), embedding_dim=4, num_heads=4, context_length=12, num_layers=2)"
   ]
  },
  {
   "cell_type": "code",
   "execution_count": 17,
   "id": "19a53572",
   "metadata": {},
   "outputs": [
    {
     "data": {
      "text/plain": [
       "koRKutModel(\n",
       "  (embedding): koRKutEmbedding(\n",
       "    (embedding): Embedding(64, 4)\n",
       "  )\n",
       "  (layers): Sequential(\n",
       "    (0): koRKutDecoderBlock(\n",
       "      (self_attention): koRKutMultiHeadAttention(\n",
       "        (multi_head_attention): MultiheadAttention(\n",
       "          (out_proj): NonDynamicallyQuantizableLinear(in_features=4, out_features=4, bias=True)\n",
       "        )\n",
       "        (projection): Linear(in_features=4, out_features=4, bias=True)\n",
       "      )\n",
       "      (norm_layer1): koRKutLayerNorm()\n",
       "      (multiLayerPerceptron): koRKutMultiLayerPerceptron(\n",
       "        (gate_proj): Linear(in_features=4, out_features=4, bias=False)\n",
       "        (up_proj): Linear(in_features=4, out_features=4, bias=False)\n",
       "        (down_proj): Linear(in_features=4, out_features=4, bias=True)\n",
       "        (silu): SiLU()\n",
       "      )\n",
       "      (norm_layer2): koRKutLayerNorm()\n",
       "    )\n",
       "    (1): koRKutDecoderBlock(\n",
       "      (self_attention): koRKutMultiHeadAttention(\n",
       "        (multi_head_attention): MultiheadAttention(\n",
       "          (out_proj): NonDynamicallyQuantizableLinear(in_features=4, out_features=4, bias=True)\n",
       "        )\n",
       "        (projection): Linear(in_features=4, out_features=4, bias=True)\n",
       "      )\n",
       "      (norm_layer1): koRKutLayerNorm()\n",
       "      (multiLayerPerceptron): koRKutMultiLayerPerceptron(\n",
       "        (gate_proj): Linear(in_features=4, out_features=4, bias=False)\n",
       "        (up_proj): Linear(in_features=4, out_features=4, bias=False)\n",
       "        (down_proj): Linear(in_features=4, out_features=4, bias=True)\n",
       "        (silu): SiLU()\n",
       "      )\n",
       "      (norm_layer2): koRKutLayerNorm()\n",
       "    )\n",
       "  )\n",
       "  (lm_head): Linear(in_features=4, out_features=64, bias=True)\n",
       ")"
      ]
     },
     "execution_count": 17,
     "metadata": {},
     "output_type": "execute_result"
    }
   ],
   "source": [
    "korkut_model"
   ]
  },
  {
   "cell_type": "code",
   "execution_count": null,
   "id": "ed86bd95",
   "metadata": {},
   "outputs": [],
   "source": []
  }
 ],
 "metadata": {
  "kernelspec": {
   "display_name": "Python 3",
   "language": "python",
   "name": "python3"
  },
  "language_info": {
   "codemirror_mode": {
    "name": "ipython",
    "version": 3
   },
   "file_extension": ".py",
   "mimetype": "text/x-python",
   "name": "python",
   "nbconvert_exporter": "python",
   "pygments_lexer": "ipython3",
   "version": "3.10.12"
  }
 },
 "nbformat": 4,
 "nbformat_minor": 5
}
