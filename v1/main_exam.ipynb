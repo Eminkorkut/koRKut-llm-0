{
 "cells": [
  {
   "cell_type": "code",
   "execution_count": 1,
   "id": "35a23190",
   "metadata": {},
   "outputs": [],
   "source": [
    "from koRKut_tokenizer import koRKutTokenizer\n",
    "\n",
    "korkut_tokenizer = koRKutTokenizer(vocab_file=\"tokenizer.json\", emptiness=61)"
   ]
  },
  {
   "cell_type": "code",
   "execution_count": 2,
   "id": "23310908",
   "metadata": {},
   "outputs": [
    {
     "data": {
      "text/plain": [
       "\"Saygıdeğer iş dünyası ve değerli paydaşlar,\\n\\nTürkiye'nin büyük kültür mirası ve zengin tarihî dokusu, özgürlük, sevgi ve kardeşlik değerleriyle bütünleşerek güçlü bir gelecek inşa etmektedir. İnsanların bilgi, bilim ve teknolojiyle donanması, modern dünyanın değişim ve gelişim sürecinde başarıyı getirecek temel unsurlardır. Eğitim ve çalışma azmiyle harmanlanan bu süreç, yaşam kalitesini yükseltmekte, mutluluk ve barış ortamını desteklemektedir. Gelenek ve modernliği dengede tutan, dostluk ve umutla örülü bu yol, ülkemizi daha güzel yarınlara taşımaktadır.\\n\\nSaygıdeğer iş dünyası ve değerli paydaşlar,\\n\\nTürkiye'nin büyük kültür mirası ve zengin tarihî dokusu, özgürlük, sevgi ve kardeşlik değerleriyle bütünleşerek güçlü bir gelecek inşa etmektedir. İnsanların bilgi, bilim ve teknolojiyle donanması, modern dünyanın değişim ve gelişim sürecinde başarıyı getirecek temel unsurlardır. Eğitim ve çalışma azmiyle harmanlanan bu süreç, yaşam kalitesini yükseltmekte, mutluluk ve barış ortamını desteklemektedir. Gelenek ve modernliği dengede tutan, dostluk ve umutla örülü bu yol, ülkemizi daha güzel yarınlara taşımaktadır.\\n\\nSaygıdeğer iş dünyası ve değerli paydaşlar,\\n\\nTürkiye'nin büyük kültür mirası ve zengin tarihî dokusu, özgürlük, sevgi ve kardeşlik değerleriyle bütünleşerek güçlü bir gelecek inşa etmektedir. İnsanların bilgi, bilim ve teknolojiyle donanması, modern dünyanın değişim ve gelişim sürecinde başarıyı getirecek temel unsurlardır. Eğitim ve çalışma azmiyle harmanlanan bu süreç, yaşam kalitesini yükseltmekte, mutluluk ve barış ortamını desteklemektedir. Gelenek ve modernliği dengede tutan, dostluk ve umutla örülü bu yol, ülkemizi daha güzel yarınlara taşımaktadır.\\n\\nSaygıdeğer iş dünyası ve değerli paydaşlar,\\n\\nTürkiye'nin büyük kültür mirası ve zengin tarihî dokusu, özgürlük, sevgi ve kardeşlik değerleriyle bütünleşerek güçlü bir gelecek inşa etmektedir. İnsanların bilgi, bilim ve teknolojiyle donanması, modern dünyanın değişim ve gelişim sürecinde başarıyı getirecek temel unsurlardır. Eğitim ve çalışma azmiyle harmanlanan bu süreç, yaşam kalitesini yükseltmekte, mutluluk ve barış ortamını desteklemektedir. Gelenek ve modernliği dengede tutan, dostluk ve umutla örülü bu yol, ülkemizi daha güzel yarınlara taşımaktadır.\\n\\nSaygıdeğer iş dünyası ve değerli paydaşlar,\\n\\nTürkiye'nin büyük kültür mirası ve zengin tarihî dokusu, özgürlük, sevgi ve kardeşlik değerleriyle bütünleşerek güçlü bir gelecek inşa etmektedir. İnsanların bilgi, bilim ve teknolojiyle donanması, modern dünyanın değişim ve gelişim sürecinde başarıyı getirecek temel unsurlardır. Eğitim ve çalışma azmiyle harmanlanan bu süreç, yaşam kalitesini yükseltmekte, mutluluk ve barış ortamını desteklemektedir. Gelenek ve modernliği dengede tutan, dostluk ve umutla örülü bu yol, ülkemizi daha güzel yarınlara taşımaktadır.\\n\\n\""
      ]
     },
     "execution_count": 2,
     "metadata": {},
     "output_type": "execute_result"
    }
   ],
   "source": [
    "with open(\"text.txt\", \"r\") as f:\n",
    "    text = f.read()\n",
    "\n",
    "text"
   ]
  },
  {
   "cell_type": "code",
   "execution_count": 3,
   "id": "6caece32",
   "metadata": {},
   "outputs": [
    {
     "data": {
      "text/plain": [
       "tensor([70, 70, 70,  ..., 70, 70, 70])"
      ]
     },
     "execution_count": 3,
     "metadata": {},
     "output_type": "execute_result"
    }
   ],
   "source": [
    "token_ids = korkut_tokenizer.encode(text)\n",
    "token_ids"
   ]
  },
  {
   "cell_type": "code",
   "execution_count": 4,
   "id": "1b44afcc",
   "metadata": {},
   "outputs": [],
   "source": [
    "context_length = 12\n",
    "stride = 2"
   ]
  },
  {
   "cell_type": "code",
   "execution_count": 5,
   "id": "b945507f",
   "metadata": {},
   "outputs": [],
   "source": [
    "from koRKut_model import koRKutModel\n",
    "\n",
    "korkut_model = koRKutModel(vocab_size=len(korkut_tokenizer.vocab), embedding_dim=32, num_heads=4, context_length=context_length, num_layers=8)"
   ]
  },
  {
   "cell_type": "code",
   "execution_count": 6,
   "id": "30cd0a5c",
   "metadata": {},
   "outputs": [
    {
     "data": {
      "text/plain": [
       "(tensor([70, 70, 70, 70, 70,  6, 70, 70, 70, 61, 70, 70]),\n",
       " tensor([70, 70, 70, 70,  6, 70, 70, 70, 61, 70, 70, 61]))"
      ]
     },
     "execution_count": 6,
     "metadata": {},
     "output_type": "execute_result"
    }
   ],
   "source": [
    "from koRKut_dataloader import TextDataset\n",
    "korkut_dataloader = TextDataset(token_ids=token_ids, context_length=context_length, stride=stride)\n",
    "korkut_dataloader.inputs[0], korkut_dataloader.targets[0]"
   ]
  },
  {
   "cell_type": "code",
   "execution_count": 7,
   "id": "5c0d1a3c",
   "metadata": {},
   "outputs": [],
   "source": [
    "import torch\n",
    "optimizer = torch.optim.Adam(korkut_model.parameters(), lr=1e-3)\n",
    "loss_fn = torch.nn.CrossEntropyLoss()"
   ]
  },
  {
   "cell_type": "code",
   "execution_count": 8,
   "id": "6d20e93e",
   "metadata": {},
   "outputs": [
    {
     "data": {
      "text/plain": [
       "True"
      ]
     },
     "execution_count": 8,
     "metadata": {},
     "output_type": "execute_result"
    }
   ],
   "source": [
    "import torch\n",
    "\n",
    "torch.cuda.is_available()"
   ]
  },
  {
   "cell_type": "code",
   "execution_count": 9,
   "id": "70699044",
   "metadata": {},
   "outputs": [
    {
     "name": "stdout",
     "output_type": "stream",
     "text": [
      "[Epoch 1] Loss: 1.2447\n",
      "[Epoch 2] Loss: 1.0558\n",
      "[Epoch 3] Loss: 1.1353\n",
      "[Epoch 4] Loss: 1.0742\n",
      "[Epoch 5] Loss: 1.1157\n",
      "[Epoch 6] Loss: 1.1365\n",
      "[Epoch 7] Loss: 1.1568\n",
      "[Epoch 8] Loss: 1.0969\n",
      "[Epoch 9] Loss: 1.1362\n",
      "[Epoch 10] Loss: 1.1130\n"
     ]
    }
   ],
   "source": [
    "from koRKut_train import koRKutTrain\n",
    "\n",
    "trainer = koRKutTrain(korkut_model, korkut_dataloader, optimizer, loss_fn)\n",
    "trainer.train(epochs=10)"
   ]
  },
  {
   "cell_type": "code",
   "execution_count": 13,
   "id": "831839ba",
   "metadata": {},
   "outputs": [
    {
     "data": {
      "text/plain": [
       "tensor([38, 61,  1, 61, 41, 61,  6, 70, 70, 70, 70, 70, 70, 70, 70, 70, 70])"
      ]
     },
     "execution_count": 13,
     "metadata": {},
     "output_type": "execute_result"
    }
   ],
   "source": [
    "# the capital of the united states is not london.\n",
    "sentence = \"sevgi ve kardeşlik değerleriyle\"\n",
    "sentence_token = korkut_tokenizer.encode(sentence)\n",
    "sentence_token"
   ]
  },
  {
   "cell_type": "code",
   "execution_count": 14,
   "id": "75cc0af4",
   "metadata": {},
   "outputs": [
    {
     "data": {
      "text/plain": [
       "[38,\n",
       " 61,\n",
       " 1,\n",
       " 61,\n",
       " 41,\n",
       " 61,\n",
       " 6,\n",
       " 70,\n",
       " 70,\n",
       " 70,\n",
       " 70,\n",
       " 70,\n",
       " 70,\n",
       " 70,\n",
       " 70,\n",
       " 70,\n",
       " 70,\n",
       " 70,\n",
       " 70,\n",
       " 61,\n",
       " 70,\n",
       " 35]"
      ]
     },
     "execution_count": 14,
     "metadata": {},
     "output_type": "execute_result"
    }
   ],
   "source": [
    "korkut_model.eval()\n",
    "out = korkut_model.generate(sentence_token, max_new_tokens=5)\n",
    "out"
   ]
  },
  {
   "cell_type": "code",
   "execution_count": 12,
   "id": "b49e6a2c",
   "metadata": {},
   "outputs": [
    {
     "data": {
      "text/plain": [
       "'<unk><unk><unk>dostluk<unk><unk><unk><unk><unk><unk><unk>dostluk<unk><unk>dostluk<unk><unk><unk><unk>türkiye<unk>sevgi<unk>'"
      ]
     },
     "execution_count": 12,
     "metadata": {},
     "output_type": "execute_result"
    }
   ],
   "source": [
    "korkut_tokenizer.decode(out)"
   ]
  },
  {
   "cell_type": "code",
   "execution_count": null,
   "id": "c3ca42f5",
   "metadata": {},
   "outputs": [],
   "source": []
  }
 ],
 "metadata": {
  "kernelspec": {
   "display_name": "Python 3",
   "language": "python",
   "name": "python3"
  },
  "language_info": {
   "codemirror_mode": {
    "name": "ipython",
    "version": 3
   },
   "file_extension": ".py",
   "mimetype": "text/x-python",
   "name": "python",
   "nbconvert_exporter": "python",
   "pygments_lexer": "ipython3",
   "version": "3.10.12"
  }
 },
 "nbformat": 4,
 "nbformat_minor": 5
}
